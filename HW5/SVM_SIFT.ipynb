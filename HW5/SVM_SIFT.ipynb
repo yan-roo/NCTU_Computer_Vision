{
 "cells": [
  {
   "cell_type": "code",
   "execution_count": 2,
   "metadata": {
    "collapsed": true
   },
   "outputs": [],
   "source": [
    "import cv2\n",
    "import numpy as np\n",
    "import matplotlib.pyplot as plt\n",
    "import os\n",
    "from cyvlfeat.sift import dsift\n",
    "from cyvlfeat.kmeans import kmeans"
   ]
  },
  {
   "cell_type": "code",
   "execution_count": null,
   "metadata": {
    "collapsed": true
   },
   "outputs": [],
   "source": [
    "#https://github.com/menpo/cyvlfeat/blob/master/cyvlfeat/sift/dsift.py"
   ]
  },
  {
   "cell_type": "code",
   "execution_count": 3,
   "metadata": {
    "collapsed": true
   },
   "outputs": [],
   "source": [
    "train_path = 'hw5_data/train/'\n",
    "test_path = 'hw5_data/test/'\n",
    "size = 32\n",
    "\n",
    "#load train data\n",
    "feature = []\n",
    "label = []\n",
    "allList = os.listdir(train_path)\n",
    "num = 0\n",
    "for item in allList:\n",
    "    if os.path.isdir(train_path + item):\n",
    "        data_of_class = os.listdir(train_path + item)\n",
    "        f = []\n",
    "        i = 0\n",
    "        for data in data_of_class:\n",
    "            img = cv2.imread(train_path + item+'/' + data,0)\n",
    "            gray = img\n",
    "            #gray = cv2.cvtColor(img,cv2.COLOR_BGR2GRAY)\n",
    "            #gray = cv2.resize(gray,(size,size),interpolation=cv2.INTER_AREA)\n",
    "            #normalize\n",
    "            #gray = gray - np.mean(gray)\n",
    "            #gray = gray/np.std(gray)\n",
    "            f.append(gray)\n",
    "            i+=1\n",
    "            num+=1\n",
    "        feature.append(f)\n",
    "        label.append(item)"
   ]
  },
  {
   "cell_type": "code",
   "execution_count": 4,
   "metadata": {
    "collapsed": true
   },
   "outputs": [],
   "source": [
    "#load test data\n",
    "\n",
    "test_feature = []\n",
    "test_label = []\n",
    "test_List = os.listdir(test_path)\n",
    "for item in test_List:\n",
    "    if os.path.isdir(test_path + item):\n",
    "        data_of_class = os.listdir(test_path + item)\n",
    "        f=[]\n",
    "        i = 0\n",
    "        for data in data_of_class:\n",
    "            img = cv2.imread(test_path + item+'/' + data,0)\n",
    "            gray=img\n",
    "            #gray = cv2.cvtColor(img,cv2.COLOR_BGR2GRAY)\n",
    "            #gray = cv2.resize(gray,(size,size),interpolation=cv2.INTER_AREA)\n",
    "            #normalize\n",
    "            #gray = gray - np.mean(gray)\n",
    "            #gray = gray/np.std(gray)\n",
    "            f.append(gray)\n",
    "            i+=1\n",
    "        test_feature.append(f)\n",
    "        test_label.append(item)"
   ]
  },
  {
   "cell_type": "code",
   "execution_count": 7,
   "metadata": {},
   "outputs": [],
   "source": [
    "#train data\n",
    "descriptors = []\n",
    "#sift = cv2.xfeatures2d.SIFT_create(nfeatures = 200)\n",
    "for i in range(len(feature)):\n",
    "    d = []\n",
    "    for j in range(len(feature[i])):\n",
    "        t_kp,t_des = dsift(feature[i][j],step=15,size=8,fast=True,float_descriptors=True)\n",
    "        #t_kp, t_des = sift.detectAndCompute(feature[i][j],None)\n",
    "        d.append(t_des)\n",
    "    descriptors.append(d)"
   ]
  },
  {
   "cell_type": "code",
   "execution_count": 8,
   "metadata": {
    "collapsed": true
   },
   "outputs": [],
   "source": [
    "# Stack all the descriptors vertically in a numpy array\n",
    "des_np = descriptors[0][0]\n",
    "for i in range(len(descriptors)):\n",
    "    for j in range(len(descriptors[i])):\n",
    "        dd = descriptors[i][j]\n",
    "        if i!=0 and j!=0:\n",
    "            des_np = np.vstack((des_np,dd))"
   ]
  },
  {
   "cell_type": "code",
   "execution_count": 9,
   "metadata": {
    "collapsed": true
   },
   "outputs": [],
   "source": [
    "# Perform k-means clustering\n",
    "#criteria = (cv2.TERM_CRITERIA_EPS + cv2.TERM_CRITERIA_MAX_ITER,10,1.0)\n",
    "#flags = cv2.KMEANS_RANDOM_CENTERS\n",
    "#compactness,labels,centers = cv2.kmeans(des_np,400,None,criteria,10,flags)\n",
    "centers = kmeans(des_np,400)"
   ]
  },
  {
   "cell_type": "code",
   "execution_count": 10,
   "metadata": {
    "collapsed": true
   },
   "outputs": [],
   "source": [
    "# Calculate the histogram of features\n",
    "im_features = np.zeros((len(descriptors)*100,400),float)\n",
    "for i in range(len(descriptors)):\n",
    "    for j in range(len(descriptors[i])):\n",
    "        for k in range(len(descriptors[i][j])):\n",
    "            dist = np.sqrt(np.sum((centers - descriptors[i][j][k])**2,axis=1))\n",
    "            closet = np.argmin(dist,axis=0)\n",
    "            im_features[i*100+j,closet] += 1"
   ]
  },
  {
   "cell_type": "code",
   "execution_count": 85,
   "metadata": {
    "collapsed": true
   },
   "outputs": [],
   "source": [
    "#normalize histogram\n",
    "#im_features = im_features / np.sum(im_features,axis = 1).reshape(-1,1)"
   ]
  },
  {
   "cell_type": "code",
   "execution_count": 38,
   "metadata": {
    "collapsed": true
   },
   "outputs": [],
   "source": [
    "#test data descriptors\n",
    "test_descriptors = []\n",
    "#sift = cv2.xfeatures2d.SIFT_create(nfeatures = 100)\n",
    "for i in range(len(test_feature)):\n",
    "    d = []\n",
    "    for j in range(len(test_feature[i])):\n",
    "        t_kp,t_des = dsift(test_feature[i][j],step=10,size=8,fast=True,float_descriptors=True)\n",
    "        #t_kp, t_des = sift.detectAndCompute(test_feature[i][j],None)\n",
    "        d.append(t_des)\n",
    "    test_descriptors.append(d)"
   ]
  },
  {
   "cell_type": "code",
   "execution_count": 39,
   "metadata": {
    "collapsed": true
   },
   "outputs": [],
   "source": [
    "# Stack all the descriptors vertically in a numpy array\n",
    "test_des_np = test_descriptors[0][0]\n",
    "for i in range(len(test_descriptors)):\n",
    "    for j in range(len(test_descriptors[i])):\n",
    "        dd = test_descriptors[i][j]\n",
    "        if i!=0 and j!=0:\n",
    "            test_des_np = np.vstack((test_des_np,dd))"
   ]
  },
  {
   "cell_type": "code",
   "execution_count": 40,
   "metadata": {
    "collapsed": true
   },
   "outputs": [],
   "source": [
    "# Calculate the histogram of features\n",
    "test_im_features = np.zeros((len(test_descriptors)*10,400),float)\n",
    "for i in range(len(test_descriptors)):\n",
    "    for j in range(len(test_descriptors[i])):\n",
    "        for k in range(len(test_descriptors[i][j])):\n",
    "            dist = np.sqrt(np.sum((centers - test_descriptors[i][j][k])**2,axis=1))\n",
    "            closet = np.argmin(dist,axis=0)\n",
    "            test_im_features[i*10+j,closet] += 1"
   ]
  },
  {
   "cell_type": "code",
   "execution_count": 86,
   "metadata": {
    "collapsed": true
   },
   "outputs": [],
   "source": [
    "#normalize histogram\n",
    "#test_im_features = test_im_features / np.sum(test_im_features,axis = 1).reshape(-1,1)"
   ]
  },
  {
   "cell_type": "code",
   "execution_count": 41,
   "metadata": {
    "collapsed": true
   },
   "outputs": [],
   "source": [
    "from svmutil import *"
   ]
  },
  {
   "cell_type": "code",
   "execution_count": 42,
   "metadata": {
    "collapsed": true
   },
   "outputs": [],
   "source": [
    "gt = np.zeros((1500,1),int)\n",
    "for i in range(len(feature)):\n",
    "    for j in range(len(feature[i])):\n",
    "        gt[i*100+j,0] = i"
   ]
  },
  {
   "cell_type": "code",
   "execution_count": 43,
   "metadata": {
    "collapsed": true
   },
   "outputs": [],
   "source": [
    "#training model\n",
    "model=svm_train(gt.reshape(-1),im_features,'-q '+'-t 0') #-q: 算法default"
   ]
  },
  {
   "cell_type": "code",
   "execution_count": 44,
   "metadata": {
    "collapsed": true
   },
   "outputs": [],
   "source": [
    "gt_test = np.zeros((150,1),int)\n",
    "for i in range(len(test_feature)):\n",
    "    for j in range(len(test_feature[i])):\n",
    "        gt_test[i*10+j,0] = i"
   ]
  },
  {
   "cell_type": "code",
   "execution_count": 45,
   "metadata": {
    "collapsed": true
   },
   "outputs": [],
   "source": [
    "p_label,p_acc,p_vals=svm_predict(gt_test.reshape(-1),test_im_features,model,'-q')"
   ]
  },
  {
   "cell_type": "code",
   "execution_count": 46,
   "metadata": {},
   "outputs": [
    {
     "name": "stdout",
     "output_type": "stream",
     "text": [
      "Accuracy: 63.33333333333333%\n"
     ]
    }
   ],
   "source": [
    "print('Accuracy: {}%'.format(p_acc[0]))"
   ]
  },
  {
   "cell_type": "code",
   "execution_count": 51,
   "metadata": {
    "collapsed": true
   },
   "outputs": [],
   "source": [
    "\n"
   ]
  }
 ],
 "metadata": {
  "kernelspec": {
   "display_name": "Python 3",
   "language": "python",
   "name": "python3"
  },
  "language_info": {
   "codemirror_mode": {
    "name": "ipython",
    "version": 3
   },
   "file_extension": ".py",
   "mimetype": "text/x-python",
   "name": "python",
   "nbconvert_exporter": "python",
   "pygments_lexer": "ipython3",
   "version": "3.6.3"
  }
 },
 "nbformat": 4,
 "nbformat_minor": 2
}
