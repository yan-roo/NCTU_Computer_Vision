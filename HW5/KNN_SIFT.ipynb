{
 "cells": [
  {
   "cell_type": "code",
   "execution_count": 1,
   "metadata": {},
   "outputs": [],
   "source": [
    "import os\n",
    "import numpy as np\n",
    "import cv2\n",
    "import matplotlib.pyplot as plt\n",
    "%matplotlib inline\n",
    "\n",
    "\n",
    "class_label =  os.listdir(f'hw5_data/train/')"
   ]
  },
  {
   "cell_type": "code",
   "execution_count": 2,
   "metadata": {},
   "outputs": [],
   "source": [
    "def DataLoader(path, standardize=False):\n",
    "    img_list = []\n",
    "    label_list = []\n",
    "    num_img = 0\n",
    "    for classes in class_label:\n",
    "        for img in os.listdir(f'hw5_data/{path}/{classes}'):\n",
    "            if img.endswith('.jpg'):\n",
    "                label_list.append(classes)\n",
    "                original = cv2.imread(f'hw5_data/{path}/{classes}/{img}', cv2.IMREAD_GRAYSCALE).astype('uint8')\n",
    "                \n",
    "                if standardize:\n",
    "                    mean = np.mean(original)\n",
    "                    stds = np.std(original)\n",
    "                    original = (original-mean) / (stds+1e-6)\n",
    "                    \n",
    "\n",
    "\n",
    "                img_list.append(original)\n",
    "                num_img += 1\n",
    "\n",
    "    return np.array(img_list), label_list, num_img\n",
    "\n",
    "train_img, train_label, num_train = DataLoader('train', standardize=False)\n",
    "test_img, test_label, num_test = DataLoader('test', standardize=False)"
   ]
  },
  {
   "cell_type": "code",
   "execution_count": 3,
   "metadata": {},
   "outputs": [],
   "source": [
    "import cyvlfeat as vlfeat\n",
    "\n",
    "for i in range(num_train):\n",
    "    location, sift_feature = vlfeat.sift.dsift(train_img[i], fast=False, step=11)\n",
    "    \n",
    "    if i == 0:\n",
    "        des = sift_feature # (1,128)\n",
    "    else:\n",
    "        des = np.vstack((des, sift_feature)).astype('float')  \n",
    "\n",
    "dim = 300\n",
    "center = vlfeat.kmeans.kmeans(des, dim) # (dim,128)"
   ]
  },
  {
   "cell_type": "code",
   "execution_count": 4,
   "metadata": {},
   "outputs": [],
   "source": [
    "def BoS(img, center):\n",
    "    step = 11\n",
    "    feature = np.zeros((len(img), center.shape[0]))\n",
    "    for i in range(len(img)):\n",
    "        location, sift_feature = vlfeat.sift.dsift(img[i] ,fast = True, step = step)\n",
    "        sift_feature = sift_feature.astype(np.float64)\n",
    "        assignments = vlfeat.kmeans.kmeans_quantize(sift_feature, center)\n",
    "        u, counts = np.unique(assignments, return_counts=True)\n",
    "        counts = counts.astype(np.float64)\n",
    "        feature[i, u] = counts/np.sum(counts)\n",
    "    \n",
    "    return feature"
   ]
  },
  {
   "cell_type": "code",
   "execution_count": 5,
   "metadata": {},
   "outputs": [],
   "source": [
    "train_feature = BoS(train_img, center)\n",
    "test_feature = BoS(test_img, center)"
   ]
  },
  {
   "cell_type": "code",
   "execution_count": 6,
   "metadata": {},
   "outputs": [],
   "source": [
    "def get_dst(train_feature, test_feature):\n",
    "\n",
    "\n",
    "    \n",
    "    D = np.zeros([num_train,num_test])\n",
    "    \n",
    "    for i in range(num_train):\n",
    "        for j in range(num_test):\n",
    "            D[i,j] = np.sum(np.abs(train_feature[i] - test_feature[j]))\n",
    "    return D\n",
    "\n",
    "distance = get_dst(train_feature, test_feature) # (1500,150)"
   ]
  },
  {
   "cell_type": "code",
   "execution_count": 7,
   "metadata": {},
   "outputs": [],
   "source": [
    "def create_dict():\n",
    "    dic = {}\n",
    "    for name in set(train_label):\n",
    "        dic[name] = 0\n",
    "    return dic\n",
    "\n",
    "def KNN(k):\n",
    "    \n",
    "    acc = 0\n",
    "\n",
    "    for i in range(num_test):\n",
    "        dic = create_dict()\n",
    "        idx = np.argsort(distance[:,i])[:k]\n",
    "    \n",
    "        for j in idx:\n",
    "            dic[train_label[j]] += 1\n",
    "            #print(train_label[j])\n",
    "\n",
    "        if max(dic, key=dic.get) == test_label[i]:\n",
    "            acc += 1\n",
    "\n",
    "\n",
    "    return acc / num_test"
   ]
  },
  {
   "cell_type": "code",
   "execution_count": 9,
   "metadata": {},
   "outputs": [
    {
     "data": {
      "image/png": "[encoded data removed]",
      "text/plain": [
       "<Figure size 432x288 with 1 Axes>"
      ]
     },
     "metadata": {
      "needs_background": "light"
     },
     "output_type": "display_data"
    }
   ],
   "source": [
    "score = []\n",
    "k_choices = [1, 3, 5, 8, 10, 12, 15, 20, 50, 100]\n",
    "for i in k_choices:\n",
    "    acc = KNN(i)\n",
    "    plt.scatter(i, acc)\n",
    "    score.append(acc)\n",
    "    \n",
    "  \n",
    "\n",
    "    \n",
    "plt.plot(k_choices, score)\n",
    "plt.title('KNN_SIFT')\n",
    "plt.xlabel('k')\n",
    "plt.ylabel('Accuracy')\n",
    "plt.tight_layout()"
   ]
  }
 ],
 "metadata": {
  "kernelspec": {
   "display_name": "keras_3",
   "language": "python",
   "name": "keras_3"
  },
  "language_info": {
   "codemirror_mode": {
    "name": "ipython",
    "version": 3
   },
   "file_extension": ".py",
   "mimetype": "text/x-python",
   "name": "python",
   "nbconvert_exporter": "python",
   "pygments_lexer": "ipython3",
   "version": "3.6.9"
  }
 },
 "nbformat": 4,
 "nbformat_minor": 4
}
